{
 "cells": [
  {
   "cell_type": "code",
   "execution_count": 1,
   "id": "df36a6bb",
   "metadata": {},
   "outputs": [],
   "source": [
    "import BR_CYGNSS\n",
    "import imp\n",
    "imp.reload(BR_CYGNSS)\n",
    "import BR_CYGNSS as SC22"
   ]
  },
  {
   "cell_type": "code",
   "execution_count": null,
   "id": "a112a261",
   "metadata": {},
   "outputs": [],
   "source": [
    "lat1 = 22\n",
    "lon1 = 73\n",
    "lat2 = 27\n",
    "lon2 = 79\n",
    "\n",
    "Variables = ['sp_inc_angle',\n",
    "             'sp_rx_gain',\n",
    "             'gps_tx_power_db_w',\n",
    "             'gps_ant_gain_db_i',\n",
    "             'ddm_snr',\n",
    "             'ddm_noise_floor',\n",
    "             'rx_to_sp_range',\n",
    "             'tx_to_sp_range',\n",
    "             'quality_flags',\n",
    "             'power_analog']\n",
    "\n",
    "SC22.Subsetting_CYGNSS_Data(2021,62,365,lat1,lon1,lat2,lon2,Variables)"
   ]
  }
 ],
 "metadata": {
  "kernelspec": {
   "display_name": "Python 3 (ipykernel)",
   "language": "python",
   "name": "python3"
  },
  "language_info": {
   "codemirror_mode": {
    "name": "ipython",
    "version": 3
   },
   "file_extension": ".py",
   "mimetype": "text/x-python",
   "name": "python",
   "nbconvert_exporter": "python",
   "pygments_lexer": "ipython3",
   "version": "3.9.7"
  }
 },
 "nbformat": 4,
 "nbformat_minor": 5
}
